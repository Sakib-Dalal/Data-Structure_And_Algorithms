{
 "cells": [
  {
   "cell_type": "code",
   "execution_count": null,
   "id": "75804a54-16d4-4068-a628-b312e5967dd5",
   "metadata": {
    "tags": []
   },
   "outputs": [],
   "source": [
    "nums = [2,7,11,15]\n",
    "\n",
    "target = 9\n",
    "\n",
    "low = 0\n",
    "high = len(nums)-1\n",
    "\n",
    "while low < high:\n",
    "    s = nums[low] + nums[high]\n",
    "    if s == target:\n",
    "        print(low, high)\n",
    "        break\n",
    "    low += 1"
   ]
  },
  {
   "cell_type": "code",
   "execution_count": null,
   "id": "4631b24e-e673-4439-b0d8-45b71178cbb0",
   "metadata": {
    "tags": []
   },
   "outputs": [],
   "source": [
    "lst = [1, 2, 3]\n",
    "lst.index(2)"
   ]
  },
  {
   "cell_type": "code",
   "execution_count": null,
   "id": "8b6dd2a5-a550-4f7e-a57f-77d8f4ae628b",
   "metadata": {},
   "outputs": [],
   "source": []
  }
 ],
 "metadata": {
  "kernelspec": {
   "display_name": "Python 3 (ipykernel)",
   "language": "python",
   "name": "python3"
  },
  "language_info": {
   "codemirror_mode": {
    "name": "ipython",
    "version": 3
   },
   "file_extension": ".py",
   "mimetype": "text/x-python",
   "name": "python",
   "nbconvert_exporter": "python",
   "pygments_lexer": "ipython3",
   "version": "3.11.9"
  }
 },
 "nbformat": 4,
 "nbformat_minor": 5
}
