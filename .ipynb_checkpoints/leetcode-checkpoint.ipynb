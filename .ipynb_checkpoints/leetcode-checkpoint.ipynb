{
 "cells": [
  {
   "cell_type": "code",
   "execution_count": 15,
   "id": "75804a54-16d4-4068-a628-b312e5967dd5",
   "metadata": {
    "tags": []
   },
   "outputs": [
    {
     "name": "stdout",
     "output_type": "stream",
     "text": [
      "0 1\n"
     ]
    }
   ],
   "source": [
    "nums = [2,7,11,15]\n",
    "target = 9\n",
    "\n",
    "low = 0\n",
    "high = len(nums)-1\n",
    "i = {}\n",
    "\n",
    "while low < high:\n",
    "    c = target - nums[low]\n",
    "    if c in i:\n",
    "        print(i[c], low)\n",
    "    i[nums[low]] = low\n",
    "    low += 1"
   ]
  },
  {
   "cell_type": "code",
   "execution_count": 25,
   "id": "4631b24e-e673-4439-b0d8-45b71178cbb0",
   "metadata": {
    "tags": []
   },
   "outputs": [
    {
     "data": {
      "text/plain": [
       "True"
      ]
     },
     "execution_count": 25,
     "metadata": {},
     "output_type": "execute_result"
    }
   ],
   "source": [
    "class Solution:\n",
    "    def isPalindrome(self, x):\n",
    "        x = str(x)\n",
    "        return x == x[::-1]\n",
    "    \n",
    "sol = Solution()\n",
    "sol.isPalindrome(121)"
   ]
  },
  {
   "cell_type": "code",
   "execution_count": 111,
   "id": "8b6dd2a5-a550-4f7e-a57f-77d8f4ae628b",
   "metadata": {},
   "outputs": [
    {
     "data": {
      "text/plain": [
       "3"
      ]
     },
     "execution_count": 111,
     "metadata": {},
     "output_type": "execute_result"
    }
   ],
   "source": [
    "class Solution:\n",
    "    def romanToInt(self, s:str):\n",
    "        symbols = {\n",
    "            'I': 1,\n",
    "            'V': 5,\n",
    "            'X': 10,\n",
    "            'L': 50,\n",
    "            'C': 100,\n",
    "            'D': 500,\n",
    "            'M': 1000\n",
    "        }\n",
    "        sum = 0\n",
    "        for i in range(len(s)-1):\n",
    "            if symbols[s[i]] < symbols[s[i+1]]:\n",
    "                sum = sum - symbols[s[i]]\n",
    "\n",
    "            sum = sum + symbols[s[i]]\n",
    "        sum = sum + symbols[s[-1]]\n",
    "        return sum\n",
    "    \n",
    "sol = Solution()\n",
    "sol.romanToInt('III')"
   ]
  },
  {
   "cell_type": "code",
   "execution_count": null,
   "id": "d66cdf27-81f5-44f7-a823-caa8e57d6490",
   "metadata": {},
   "outputs": [],
   "source": []
  }
 ],
 "metadata": {
  "kernelspec": {
   "display_name": "Python 3 (ipykernel)",
   "language": "python",
   "name": "python3"
  },
  "language_info": {
   "codemirror_mode": {
    "name": "ipython",
    "version": 3
   },
   "file_extension": ".py",
   "mimetype": "text/x-python",
   "name": "python",
   "nbconvert_exporter": "python",
   "pygments_lexer": "ipython3",
   "version": "3.11.9"
  }
 },
 "nbformat": 4,
 "nbformat_minor": 5
}
